{
 "cells": [
  {
   "cell_type": "markdown",
   "id": "dad9c48f-97aa-42b2-a036-ae778b76c340",
   "metadata": {},
   "source": [
    "## About this file \n",
    "\n",
    "#### Column Profiling:\n",
    "#### datetime: datetime\n",
    "#### season: season (1: spring, 2: summer, 3: fall, 4: winter)\n",
    "#### holiday: whether day is a holiday or not (extracted from http://dchr.dc.gov/page/holiday-schedule)\n",
    "#### workingday: if day is neither weekend nor holiday is 1, otherwise is 0.\n",
    "#### weather: 1: Clear, Few clouds, partly cloudy, partly cloudy 2: Mist + Cloudy, Mist + Broken clouds, Mist + Few clouds, Mist 3: Light Snow, Light Rain + Thunderstorm + Scattered clouds, Light Rain + Scattered clouds 4: Heavy Rain + Ice Pallets + Thunderstorm + Mist, Snow + Fog\n",
    "#### temp: temperature in Celsius\n",
    "#### atemp: feeling temperature in Celsius\n",
    "#### humidity: humidity\n",
    "#### windspeed: wind speed\n",
    "#### casual: count of casual users\n",
    "#### registered: count of registered users\n",
    "#### count: count of total rental bikes including both casual and registered"
   ]
  },
  {
   "cell_type": "code",
   "execution_count": 1,
   "id": "0a4a2de4-60e1-4e3d-8307-e3c3013f4760",
   "metadata": {},
   "outputs": [],
   "source": [
    "# data from Kaggel link - https://www.kaggle.com/datasets/ranitsarkar01/yulu-bike-sharing-data/data\n",
    "# code link - https://www.kaggle.com/code/roggerr/yulu-eda-and-hypthesis-testing-in-details"
   ]
  },
  {
   "cell_type": "code",
   "execution_count": 2,
   "id": "5867bbc4-d259-4a86-a026-7df7d74b8d87",
   "metadata": {},
   "outputs": [],
   "source": [
    "import pandas as pd\n",
    "import numpy as np\n",
    "import seaborn as sns\n",
    "import matplotlib.pyplot as plt\n",
    "from scipy.stats import ttest_ind,f_oneway, levene, kruskal, shapiro, chi2_contingency\n",
    "from statsmodels.graphics.gofplots import qqplot\n",
    "import warnings\n",
    "warnings.filterwarnings(\"ignore\")"
   ]
  },
  {
   "cell_type": "code",
   "execution_count": 13,
   "id": "0d216a13-71f2-4f34-bd85-0896aae5c93b",
   "metadata": {
    "scrolled": true
   },
   "outputs": [
    {
     "data": {
      "text/html": [
       "<div>\n",
       "<style scoped>\n",
       "    .dataframe tbody tr th:only-of-type {\n",
       "        vertical-align: middle;\n",
       "    }\n",
       "\n",
       "    .dataframe tbody tr th {\n",
       "        vertical-align: top;\n",
       "    }\n",
       "\n",
       "    .dataframe thead th {\n",
       "        text-align: right;\n",
       "    }\n",
       "</style>\n",
       "<table border=\"1\" class=\"dataframe\">\n",
       "  <thead>\n",
       "    <tr style=\"text-align: right;\">\n",
       "      <th></th>\n",
       "      <th>datetime</th>\n",
       "      <th>season</th>\n",
       "      <th>holiday</th>\n",
       "      <th>workingday</th>\n",
       "      <th>weather</th>\n",
       "      <th>temp</th>\n",
       "      <th>atemp</th>\n",
       "      <th>humidity</th>\n",
       "      <th>windspeed</th>\n",
       "      <th>casual</th>\n",
       "      <th>registered</th>\n",
       "      <th>count</th>\n",
       "    </tr>\n",
       "  </thead>\n",
       "  <tbody>\n",
       "    <tr>\n",
       "      <th>4507</th>\n",
       "      <td>2011-10-19 21:00:00</td>\n",
       "      <td>4</td>\n",
       "      <td>0</td>\n",
       "      <td>1</td>\n",
       "      <td>2</td>\n",
       "      <td>23.78</td>\n",
       "      <td>27.275</td>\n",
       "      <td>94</td>\n",
       "      <td>8.9981</td>\n",
       "      <td>6</td>\n",
       "      <td>79</td>\n",
       "      <td>85</td>\n",
       "    </tr>\n",
       "    <tr>\n",
       "      <th>10747</th>\n",
       "      <td>2012-12-14 05:00:00</td>\n",
       "      <td>4</td>\n",
       "      <td>0</td>\n",
       "      <td>1</td>\n",
       "      <td>1</td>\n",
       "      <td>8.20</td>\n",
       "      <td>11.365</td>\n",
       "      <td>69</td>\n",
       "      <td>7.0015</td>\n",
       "      <td>0</td>\n",
       "      <td>34</td>\n",
       "      <td>34</td>\n",
       "    </tr>\n",
       "    <tr>\n",
       "      <th>1414</th>\n",
       "      <td>2011-04-04 19:00:00</td>\n",
       "      <td>2</td>\n",
       "      <td>0</td>\n",
       "      <td>1</td>\n",
       "      <td>1</td>\n",
       "      <td>28.70</td>\n",
       "      <td>31.820</td>\n",
       "      <td>24</td>\n",
       "      <td>31.0009</td>\n",
       "      <td>51</td>\n",
       "      <td>227</td>\n",
       "      <td>278</td>\n",
       "    </tr>\n",
       "    <tr>\n",
       "      <th>4163</th>\n",
       "      <td>2011-10-05 12:00:00</td>\n",
       "      <td>4</td>\n",
       "      <td>0</td>\n",
       "      <td>1</td>\n",
       "      <td>1</td>\n",
       "      <td>25.42</td>\n",
       "      <td>31.060</td>\n",
       "      <td>43</td>\n",
       "      <td>22.0028</td>\n",
       "      <td>34</td>\n",
       "      <td>180</td>\n",
       "      <td>214</td>\n",
       "    </tr>\n",
       "    <tr>\n",
       "      <th>6016</th>\n",
       "      <td>2012-02-06 22:00:00</td>\n",
       "      <td>1</td>\n",
       "      <td>0</td>\n",
       "      <td>1</td>\n",
       "      <td>1</td>\n",
       "      <td>12.30</td>\n",
       "      <td>15.150</td>\n",
       "      <td>65</td>\n",
       "      <td>8.9981</td>\n",
       "      <td>4</td>\n",
       "      <td>83</td>\n",
       "      <td>87</td>\n",
       "    </tr>\n",
       "  </tbody>\n",
       "</table>\n",
       "</div>"
      ],
      "text/plain": [
       "                  datetime  season  holiday  workingday  weather   temp  \\\n",
       "4507   2011-10-19 21:00:00       4        0           1        2  23.78   \n",
       "10747  2012-12-14 05:00:00       4        0           1        1   8.20   \n",
       "1414   2011-04-04 19:00:00       2        0           1        1  28.70   \n",
       "4163   2011-10-05 12:00:00       4        0           1        1  25.42   \n",
       "6016   2012-02-06 22:00:00       1        0           1        1  12.30   \n",
       "\n",
       "        atemp  humidity  windspeed  casual  registered  count  \n",
       "4507   27.275        94     8.9981       6          79     85  \n",
       "10747  11.365        69     7.0015       0          34     34  \n",
       "1414   31.820        24    31.0009      51         227    278  \n",
       "4163   31.060        43    22.0028      34         180    214  \n",
       "6016   15.150        65     8.9981       4          83     87  "
      ]
     },
     "execution_count": 13,
     "metadata": {},
     "output_type": "execute_result"
    }
   ],
   "source": [
    "df = pd.read_csv(\"D:/All project/yulu_bike_sharing_dataset.csv\")\n",
    "df.sample(5)"
   ]
  },
  {
   "cell_type": "code",
   "execution_count": 5,
   "id": "a8346170-29cc-463e-9f60-2304e7a1906f",
   "metadata": {},
   "outputs": [
    {
     "data": {
      "text/plain": [
       "datetime      0\n",
       "season        0\n",
       "holiday       0\n",
       "workingday    0\n",
       "weather       0\n",
       "temp          0\n",
       "atemp         0\n",
       "humidity      0\n",
       "windspeed     0\n",
       "casual        0\n",
       "registered    0\n",
       "count         0\n",
       "dtype: int64"
      ]
     },
     "execution_count": 5,
     "metadata": {},
     "output_type": "execute_result"
    }
   ],
   "source": [
    "# Checking of Null values \n",
    "\n",
    "df.isnull().sum()"
   ]
  },
  {
   "cell_type": "markdown",
   "id": "613ea302-7ef9-45c0-806c-ef18be8260b6",
   "metadata": {},
   "source": [
    "#### There are total 10886 rows and 12 columns\n",
    "#### The data does not contains any null values. So, no need to handle missing values"
   ]
  },
  {
   "cell_type": "code",
   "execution_count": 6,
   "id": "df8323ec-38cf-424a-9683-310737143dff",
   "metadata": {},
   "outputs": [
    {
     "data": {
      "text/plain": [
       "np.int64(0)"
      ]
     },
     "execution_count": 6,
     "metadata": {},
     "output_type": "execute_result"
    }
   ],
   "source": [
    "# checking duplicate \n",
    "df.duplicated().sum()"
   ]
  },
  {
   "cell_type": "code",
   "execution_count": 7,
   "id": "b7ea5c88-b592-47e7-969f-b3bd33d569bd",
   "metadata": {
    "scrolled": true
   },
   "outputs": [
    {
     "data": {
      "text/plain": [
       "season       -0.007076\n",
       "holiday       5.660517\n",
       "workingday   -0.776163\n",
       "weather       1.243484\n",
       "temp          0.003691\n",
       "atemp        -0.102560\n",
       "humidity     -0.086335\n",
       "windspeed     0.588767\n",
       "casual        2.495748\n",
       "registered    1.524805\n",
       "count         1.242066\n",
       "dtype: float64"
      ]
     },
     "execution_count": 7,
     "metadata": {},
     "output_type": "execute_result"
    }
   ],
   "source": [
    "# skewness of each column\n",
    "\n",
    "df.skew(numeric_only= True)"
   ]
  },
  {
   "cell_type": "markdown",
   "id": "aed8a632-920b-4b47-b2c6-192594774475",
   "metadata": {},
   "source": [
    "#### Skewness Analysis of Variable \n",
    "\n",
    "\n",
    "Symmetrical Majority:\n",
    "  The majority of the variable, including 'season' and 'temp',exhibit skewness values close to zero, suggestive relatively \n",
    "  symmetrical distribution\n",
    "\n",
    "Postive skewness Insight \n",
    "  variable such as 'holiday','weather','windspeed','casual','registered','count' demonstrate positive skewness\n",
    "\n",
    "Negative skewness Insight\n",
    "  In contrast 'workingday','atemp','humidity' demonstrate negative skewness\n",
    "\n",
    "\n"
   ]
  },
  {
   "cell_type": "code",
   "execution_count": 9,
   "id": "79af8775-7a1a-41cb-a270-8a491c5f2ac4",
   "metadata": {},
   "outputs": [
    {
     "data": {
      "text/plain": [
       "datetime      10886\n",
       "season            4\n",
       "holiday           2\n",
       "workingday        2\n",
       "weather           4\n",
       "temp             49\n",
       "atemp            60\n",
       "humidity         89\n",
       "windspeed        28\n",
       "casual          309\n",
       "registered      731\n",
       "count           822\n",
       "dtype: int64"
      ]
     },
     "execution_count": 9,
     "metadata": {},
     "output_type": "execute_result"
    }
   ],
   "source": [
    "# uniques values of each columns \n",
    "\n",
    "df.nunique()"
   ]
  },
  {
   "cell_type": "code",
   "execution_count": 10,
   "id": "3bc593d2-ce2c-4934-b1fd-83102d3274e9",
   "metadata": {},
   "outputs": [
    {
     "name": "stdout",
     "output_type": "stream",
     "text": [
      "<class 'pandas.core.frame.DataFrame'>\n",
      "RangeIndex: 10886 entries, 0 to 10885\n",
      "Data columns (total 12 columns):\n",
      " #   Column      Non-Null Count  Dtype  \n",
      "---  ------      --------------  -----  \n",
      " 0   datetime    10886 non-null  object \n",
      " 1   season      10886 non-null  int64  \n",
      " 2   holiday     10886 non-null  int64  \n",
      " 3   workingday  10886 non-null  int64  \n",
      " 4   weather     10886 non-null  int64  \n",
      " 5   temp        10886 non-null  float64\n",
      " 6   atemp       10886 non-null  float64\n",
      " 7   humidity    10886 non-null  int64  \n",
      " 8   windspeed   10886 non-null  float64\n",
      " 9   casual      10886 non-null  int64  \n",
      " 10  registered  10886 non-null  int64  \n",
      " 11  count       10886 non-null  int64  \n",
      "dtypes: float64(3), int64(8), object(1)\n",
      "memory usage: 1020.7+ KB\n"
     ]
    }
   ],
   "source": [
    "# data info\n",
    "\n",
    "df.info()"
   ]
  },
  {
   "cell_type": "code",
   "execution_count": 18,
   "id": "8109207b-5f2f-4630-934a-ee01eaa7bfb7",
   "metadata": {},
   "outputs": [
    {
     "name": "stdout",
     "output_type": "stream",
     "text": [
      "<class 'pandas.core.frame.DataFrame'>\n",
      "RangeIndex: 10886 entries, 0 to 10885\n",
      "Data columns (total 12 columns):\n",
      " #   Column      Non-Null Count  Dtype   \n",
      "---  ------      --------------  -----   \n",
      " 0   datetime    10886 non-null  object  \n",
      " 1   season      10886 non-null  category\n",
      " 2   holiday     10886 non-null  category\n",
      " 3   workingday  10886 non-null  category\n",
      " 4   weather     10886 non-null  category\n",
      " 5   temp        10886 non-null  float64 \n",
      " 6   atemp       10886 non-null  float64 \n",
      " 7   humidity    10886 non-null  int64   \n",
      " 8   windspeed   10886 non-null  float64 \n",
      " 9   casual      10886 non-null  int64   \n",
      " 10  registered  10886 non-null  int64   \n",
      " 11  count       10886 non-null  int64   \n",
      "dtypes: category(4), float64(3), int64(4), object(1)\n",
      "memory usage: 723.7+ KB\n"
     ]
    }
   ],
   "source": [
    "# converting the categorical column into category\n",
    "cat_col = ['season', 'holiday', 'workingday', 'weather']\n",
    "\n",
    "for i in cat_col:\n",
    "    df[i] = df[i].astype('category')\n",
    "df.info()"
   ]
  },
  {
   "cell_type": "code",
   "execution_count": 20,
   "id": "14b74402-647b-41fb-aa39-32d32ea87f6e",
   "metadata": {},
   "outputs": [
    {
     "data": {
      "text/plain": [
       "dtype('<M8[ns]')"
      ]
     },
     "execution_count": 20,
     "metadata": {},
     "output_type": "execute_result"
    }
   ],
   "source": [
    "# converting datetime column into datetime format\n",
    "\n",
    "df['datetime'] = pd.to_datetime(df['datetime'])\n",
    "df['datetime'].dtype"
   ]
  },
  {
   "cell_type": "code",
   "execution_count": 21,
   "id": "2d80e036-aba8-43d7-8c08-38414d3d1d6e",
   "metadata": {},
   "outputs": [],
   "source": [
    "# Creating new columns from datetime and converting them to categories\n",
    "\n",
    "df['year']= df['datetime'].dt.year\n",
    "df['month'] = df['datetime'].dt.month\n",
    "df['day'] = df['datetime'].dt.day\n",
    "df['hour'] = df['datetime'].dt.hour"
   ]
  },
  {
   "cell_type": "code",
   "execution_count": 23,
   "id": "09036b51-bda8-4d1f-bdb5-5ef18a335946",
   "metadata": {},
   "outputs": [
    {
     "data": {
      "text/plain": [
       "(10886, 16)"
      ]
     },
     "execution_count": 23,
     "metadata": {},
     "output_type": "execute_result"
    }
   ],
   "source": [
    "df.shape"
   ]
  },
  {
   "cell_type": "code",
   "execution_count": 24,
   "id": "49619978-cb8f-4ba6-b46d-080f2f208a31",
   "metadata": {},
   "outputs": [
    {
     "data": {
      "text/html": [
       "<div>\n",
       "<style scoped>\n",
       "    .dataframe tbody tr th:only-of-type {\n",
       "        vertical-align: middle;\n",
       "    }\n",
       "\n",
       "    .dataframe tbody tr th {\n",
       "        vertical-align: top;\n",
       "    }\n",
       "\n",
       "    .dataframe thead th {\n",
       "        text-align: right;\n",
       "    }\n",
       "</style>\n",
       "<table border=\"1\" class=\"dataframe\">\n",
       "  <thead>\n",
       "    <tr style=\"text-align: right;\">\n",
       "      <th></th>\n",
       "      <th>datetime</th>\n",
       "      <th>season</th>\n",
       "      <th>holiday</th>\n",
       "      <th>workingday</th>\n",
       "      <th>weather</th>\n",
       "      <th>temp</th>\n",
       "      <th>atemp</th>\n",
       "      <th>humidity</th>\n",
       "      <th>windspeed</th>\n",
       "      <th>casual</th>\n",
       "      <th>registered</th>\n",
       "      <th>count</th>\n",
       "      <th>year</th>\n",
       "      <th>month</th>\n",
       "      <th>day</th>\n",
       "      <th>hour</th>\n",
       "    </tr>\n",
       "  </thead>\n",
       "  <tbody>\n",
       "    <tr>\n",
       "      <th>10533</th>\n",
       "      <td>2012-12-05 07:00:00</td>\n",
       "      <td>4</td>\n",
       "      <td>0</td>\n",
       "      <td>1</td>\n",
       "      <td>3</td>\n",
       "      <td>18.86</td>\n",
       "      <td>22.725</td>\n",
       "      <td>59</td>\n",
       "      <td>19.9995</td>\n",
       "      <td>9</td>\n",
       "      <td>389</td>\n",
       "      <td>398</td>\n",
       "      <td>2012</td>\n",
       "      <td>12</td>\n",
       "      <td>5</td>\n",
       "      <td>7</td>\n",
       "    </tr>\n",
       "    <tr>\n",
       "      <th>660</th>\n",
       "      <td>2011-02-10 18:00:00</td>\n",
       "      <td>1</td>\n",
       "      <td>0</td>\n",
       "      <td>1</td>\n",
       "      <td>1</td>\n",
       "      <td>6.56</td>\n",
       "      <td>9.090</td>\n",
       "      <td>28</td>\n",
       "      <td>8.9981</td>\n",
       "      <td>3</td>\n",
       "      <td>157</td>\n",
       "      <td>160</td>\n",
       "      <td>2011</td>\n",
       "      <td>2</td>\n",
       "      <td>10</td>\n",
       "      <td>18</td>\n",
       "    </tr>\n",
       "    <tr>\n",
       "      <th>2224</th>\n",
       "      <td>2011-05-19 14:00:00</td>\n",
       "      <td>2</td>\n",
       "      <td>0</td>\n",
       "      <td>1</td>\n",
       "      <td>3</td>\n",
       "      <td>22.14</td>\n",
       "      <td>25.760</td>\n",
       "      <td>73</td>\n",
       "      <td>12.9980</td>\n",
       "      <td>43</td>\n",
       "      <td>137</td>\n",
       "      <td>180</td>\n",
       "      <td>2011</td>\n",
       "      <td>5</td>\n",
       "      <td>19</td>\n",
       "      <td>14</td>\n",
       "    </tr>\n",
       "    <tr>\n",
       "      <th>10734</th>\n",
       "      <td>2012-12-13 16:00:00</td>\n",
       "      <td>4</td>\n",
       "      <td>0</td>\n",
       "      <td>1</td>\n",
       "      <td>1</td>\n",
       "      <td>13.94</td>\n",
       "      <td>17.425</td>\n",
       "      <td>39</td>\n",
       "      <td>7.0015</td>\n",
       "      <td>50</td>\n",
       "      <td>356</td>\n",
       "      <td>406</td>\n",
       "      <td>2012</td>\n",
       "      <td>12</td>\n",
       "      <td>13</td>\n",
       "      <td>16</td>\n",
       "    </tr>\n",
       "    <tr>\n",
       "      <th>7860</th>\n",
       "      <td>2012-06-07 21:00:00</td>\n",
       "      <td>2</td>\n",
       "      <td>0</td>\n",
       "      <td>1</td>\n",
       "      <td>1</td>\n",
       "      <td>25.42</td>\n",
       "      <td>31.060</td>\n",
       "      <td>41</td>\n",
       "      <td>22.0028</td>\n",
       "      <td>30</td>\n",
       "      <td>283</td>\n",
       "      <td>313</td>\n",
       "      <td>2012</td>\n",
       "      <td>6</td>\n",
       "      <td>7</td>\n",
       "      <td>21</td>\n",
       "    </tr>\n",
       "  </tbody>\n",
       "</table>\n",
       "</div>"
      ],
      "text/plain": [
       "                 datetime season holiday workingday weather   temp   atemp  \\\n",
       "10533 2012-12-05 07:00:00      4       0          1       3  18.86  22.725   \n",
       "660   2011-02-10 18:00:00      1       0          1       1   6.56   9.090   \n",
       "2224  2011-05-19 14:00:00      2       0          1       3  22.14  25.760   \n",
       "10734 2012-12-13 16:00:00      4       0          1       1  13.94  17.425   \n",
       "7860  2012-06-07 21:00:00      2       0          1       1  25.42  31.060   \n",
       "\n",
       "       humidity  windspeed  casual  registered  count  year  month  day  hour  \n",
       "10533        59    19.9995       9         389    398  2012     12    5     7  \n",
       "660          28     8.9981       3         157    160  2011      2   10    18  \n",
       "2224         73    12.9980      43         137    180  2011      5   19    14  \n",
       "10734        39     7.0015      50         356    406  2012     12   13    16  \n",
       "7860         41    22.0028      30         283    313  2012      6    7    21  "
      ]
     },
     "execution_count": 24,
     "metadata": {},
     "output_type": "execute_result"
    }
   ],
   "source": [
    "df.sample(5)"
   ]
  },
  {
   "cell_type": "code",
   "execution_count": 25,
   "id": "6372e861-ede3-46aa-94b5-69c744c74626",
   "metadata": {},
   "outputs": [],
   "source": [
    "# replacing the number with category\n",
    "\n",
    "# change season\n",
    "df['season'] = df['season'].replace({1: \"spring\", 2: \"summer\", 3: \"fall\", 4: \"winter\"})\n",
    "# change of holiday\n",
    "df['holiday'] = df['holiday'].replace({0:'No',1:'Yes'})\n",
    "\n",
    "# change of workingday\n",
    "df['workingday'] = df['workingday'].replace({0:'No',1:'Yes'})\n",
    "\n",
    "# change of month\n",
    "df['month'] = df['month'].replace({1: 'January',\n",
    "                                   2: 'February',\n",
    "                                   3: 'March',\n",
    "                                   4: 'April',\n",
    "                                   5: 'May',\n",
    "                                   6: 'June',\n",
    "                                   7: 'July',\n",
    "                                   8: 'August',\n",
    "                                   9: 'September',\n",
    "                                   10: 'October',\n",
    "                                   11: 'November',\n",
    "                                   12: 'December'})\n"
   ]
  },
  {
   "cell_type": "code",
   "execution_count": 27,
   "id": "36ac96f1-010d-4f70-8aed-b9c0c4c70b60",
   "metadata": {},
   "outputs": [
    {
     "data": {
      "text/html": [
       "<div>\n",
       "<style scoped>\n",
       "    .dataframe tbody tr th:only-of-type {\n",
       "        vertical-align: middle;\n",
       "    }\n",
       "\n",
       "    .dataframe tbody tr th {\n",
       "        vertical-align: top;\n",
       "    }\n",
       "\n",
       "    .dataframe thead th {\n",
       "        text-align: right;\n",
       "    }\n",
       "</style>\n",
       "<table border=\"1\" class=\"dataframe\">\n",
       "  <thead>\n",
       "    <tr style=\"text-align: right;\">\n",
       "      <th></th>\n",
       "      <th>datetime</th>\n",
       "      <th>temp</th>\n",
       "      <th>atemp</th>\n",
       "      <th>humidity</th>\n",
       "      <th>windspeed</th>\n",
       "      <th>casual</th>\n",
       "      <th>registered</th>\n",
       "      <th>count</th>\n",
       "      <th>year</th>\n",
       "      <th>day</th>\n",
       "      <th>hour</th>\n",
       "    </tr>\n",
       "  </thead>\n",
       "  <tbody>\n",
       "    <tr>\n",
       "      <th>count</th>\n",
       "      <td>10886</td>\n",
       "      <td>10886.00000</td>\n",
       "      <td>10886.000000</td>\n",
       "      <td>10886.000000</td>\n",
       "      <td>10886.000000</td>\n",
       "      <td>10886.000000</td>\n",
       "      <td>10886.000000</td>\n",
       "      <td>10886.000000</td>\n",
       "      <td>10886.000000</td>\n",
       "      <td>10886.000000</td>\n",
       "      <td>10886.000000</td>\n",
       "    </tr>\n",
       "    <tr>\n",
       "      <th>mean</th>\n",
       "      <td>2011-12-27 05:56:22.399411968</td>\n",
       "      <td>20.23086</td>\n",
       "      <td>23.655084</td>\n",
       "      <td>61.886460</td>\n",
       "      <td>12.799395</td>\n",
       "      <td>36.021955</td>\n",
       "      <td>155.552177</td>\n",
       "      <td>191.574132</td>\n",
       "      <td>2011.501929</td>\n",
       "      <td>9.992559</td>\n",
       "      <td>11.541613</td>\n",
       "    </tr>\n",
       "    <tr>\n",
       "      <th>min</th>\n",
       "      <td>2011-01-01 00:00:00</td>\n",
       "      <td>0.82000</td>\n",
       "      <td>0.760000</td>\n",
       "      <td>0.000000</td>\n",
       "      <td>0.000000</td>\n",
       "      <td>0.000000</td>\n",
       "      <td>0.000000</td>\n",
       "      <td>1.000000</td>\n",
       "      <td>2011.000000</td>\n",
       "      <td>1.000000</td>\n",
       "      <td>0.000000</td>\n",
       "    </tr>\n",
       "    <tr>\n",
       "      <th>25%</th>\n",
       "      <td>2011-07-02 07:15:00</td>\n",
       "      <td>13.94000</td>\n",
       "      <td>16.665000</td>\n",
       "      <td>47.000000</td>\n",
       "      <td>7.001500</td>\n",
       "      <td>4.000000</td>\n",
       "      <td>36.000000</td>\n",
       "      <td>42.000000</td>\n",
       "      <td>2011.000000</td>\n",
       "      <td>5.000000</td>\n",
       "      <td>6.000000</td>\n",
       "    </tr>\n",
       "    <tr>\n",
       "      <th>50%</th>\n",
       "      <td>2012-01-01 20:30:00</td>\n",
       "      <td>20.50000</td>\n",
       "      <td>24.240000</td>\n",
       "      <td>62.000000</td>\n",
       "      <td>12.998000</td>\n",
       "      <td>17.000000</td>\n",
       "      <td>118.000000</td>\n",
       "      <td>145.000000</td>\n",
       "      <td>2012.000000</td>\n",
       "      <td>10.000000</td>\n",
       "      <td>12.000000</td>\n",
       "    </tr>\n",
       "    <tr>\n",
       "      <th>75%</th>\n",
       "      <td>2012-07-01 12:45:00</td>\n",
       "      <td>26.24000</td>\n",
       "      <td>31.060000</td>\n",
       "      <td>77.000000</td>\n",
       "      <td>16.997900</td>\n",
       "      <td>49.000000</td>\n",
       "      <td>222.000000</td>\n",
       "      <td>284.000000</td>\n",
       "      <td>2012.000000</td>\n",
       "      <td>15.000000</td>\n",
       "      <td>18.000000</td>\n",
       "    </tr>\n",
       "    <tr>\n",
       "      <th>max</th>\n",
       "      <td>2012-12-19 23:00:00</td>\n",
       "      <td>41.00000</td>\n",
       "      <td>45.455000</td>\n",
       "      <td>100.000000</td>\n",
       "      <td>56.996900</td>\n",
       "      <td>367.000000</td>\n",
       "      <td>886.000000</td>\n",
       "      <td>977.000000</td>\n",
       "      <td>2012.000000</td>\n",
       "      <td>19.000000</td>\n",
       "      <td>23.000000</td>\n",
       "    </tr>\n",
       "    <tr>\n",
       "      <th>std</th>\n",
       "      <td>NaN</td>\n",
       "      <td>7.79159</td>\n",
       "      <td>8.474601</td>\n",
       "      <td>19.245033</td>\n",
       "      <td>8.164537</td>\n",
       "      <td>49.960477</td>\n",
       "      <td>151.039033</td>\n",
       "      <td>181.144454</td>\n",
       "      <td>0.500019</td>\n",
       "      <td>5.476608</td>\n",
       "      <td>6.915838</td>\n",
       "    </tr>\n",
       "  </tbody>\n",
       "</table>\n",
       "</div>"
      ],
      "text/plain": [
       "                            datetime         temp         atemp      humidity  \\\n",
       "count                          10886  10886.00000  10886.000000  10886.000000   \n",
       "mean   2011-12-27 05:56:22.399411968     20.23086     23.655084     61.886460   \n",
       "min              2011-01-01 00:00:00      0.82000      0.760000      0.000000   \n",
       "25%              2011-07-02 07:15:00     13.94000     16.665000     47.000000   \n",
       "50%              2012-01-01 20:30:00     20.50000     24.240000     62.000000   \n",
       "75%              2012-07-01 12:45:00     26.24000     31.060000     77.000000   \n",
       "max              2012-12-19 23:00:00     41.00000     45.455000    100.000000   \n",
       "std                              NaN      7.79159      8.474601     19.245033   \n",
       "\n",
       "          windspeed        casual    registered         count          year  \\\n",
       "count  10886.000000  10886.000000  10886.000000  10886.000000  10886.000000   \n",
       "mean      12.799395     36.021955    155.552177    191.574132   2011.501929   \n",
       "min        0.000000      0.000000      0.000000      1.000000   2011.000000   \n",
       "25%        7.001500      4.000000     36.000000     42.000000   2011.000000   \n",
       "50%       12.998000     17.000000    118.000000    145.000000   2012.000000   \n",
       "75%       16.997900     49.000000    222.000000    284.000000   2012.000000   \n",
       "max       56.996900    367.000000    886.000000    977.000000   2012.000000   \n",
       "std        8.164537     49.960477    151.039033    181.144454      0.500019   \n",
       "\n",
       "                day          hour  \n",
       "count  10886.000000  10886.000000  \n",
       "mean       9.992559     11.541613  \n",
       "min        1.000000      0.000000  \n",
       "25%        5.000000      6.000000  \n",
       "50%       10.000000     12.000000  \n",
       "75%       15.000000     18.000000  \n",
       "max       19.000000     23.000000  \n",
       "std        5.476608      6.915838  "
      ]
     },
     "execution_count": 27,
     "metadata": {},
     "output_type": "execute_result"
    }
   ],
   "source": [
    "df.describe()"
   ]
  },
  {
   "cell_type": "code",
   "execution_count": 28,
   "id": "70a66fc7-36fd-4c72-a723-4ae3a143ec8d",
   "metadata": {},
   "outputs": [
    {
     "data": {
      "text/html": [
       "<div>\n",
       "<style scoped>\n",
       "    .dataframe tbody tr th:only-of-type {\n",
       "        vertical-align: middle;\n",
       "    }\n",
       "\n",
       "    .dataframe tbody tr th {\n",
       "        vertical-align: top;\n",
       "    }\n",
       "\n",
       "    .dataframe thead th {\n",
       "        text-align: right;\n",
       "    }\n",
       "</style>\n",
       "<table border=\"1\" class=\"dataframe\">\n",
       "  <thead>\n",
       "    <tr style=\"text-align: right;\">\n",
       "      <th></th>\n",
       "      <th>season</th>\n",
       "      <th>holiday</th>\n",
       "      <th>workingday</th>\n",
       "      <th>weather</th>\n",
       "    </tr>\n",
       "  </thead>\n",
       "  <tbody>\n",
       "    <tr>\n",
       "      <th>count</th>\n",
       "      <td>10886</td>\n",
       "      <td>10886</td>\n",
       "      <td>10886</td>\n",
       "      <td>10886</td>\n",
       "    </tr>\n",
       "    <tr>\n",
       "      <th>unique</th>\n",
       "      <td>4</td>\n",
       "      <td>2</td>\n",
       "      <td>2</td>\n",
       "      <td>4</td>\n",
       "    </tr>\n",
       "    <tr>\n",
       "      <th>top</th>\n",
       "      <td>winter</td>\n",
       "      <td>No</td>\n",
       "      <td>Yes</td>\n",
       "      <td>1</td>\n",
       "    </tr>\n",
       "    <tr>\n",
       "      <th>freq</th>\n",
       "      <td>2734</td>\n",
       "      <td>10575</td>\n",
       "      <td>7412</td>\n",
       "      <td>7192</td>\n",
       "    </tr>\n",
       "  </tbody>\n",
       "</table>\n",
       "</div>"
      ],
      "text/plain": [
       "        season holiday workingday  weather\n",
       "count    10886   10886      10886    10886\n",
       "unique       4       2          2        4\n",
       "top     winter      No        Yes        1\n",
       "freq      2734   10575       7412     7192"
      ]
     },
     "execution_count": 28,
     "metadata": {},
     "output_type": "execute_result"
    }
   ],
   "source": [
    "df.describe(include = 'category')"
   ]
  },
  {
   "cell_type": "markdown",
   "id": "66a43fdb-4bc6-4119-8c1e-0d7238cfd165",
   "metadata": {},
   "source": [
    "Overview and Feature Patterns\n",
    "\n",
    "Temporal and Numerical Composition:\n",
    "\n",
    "The dataset encompasses both datetime information and various numerical features associated with bike rentals. The observations span from January 1, 2011, to December 19, 2012.\n",
    "Diverse Numerical Feature Characteristics:\n",
    "\n",
    "Numerical features such as temperature, humidity, windspeed, and counts of casual and registered bike rentals show diverse ranges and distributions, highlighting the variability in rental patterns across different conditions.\n",
    "Temporal Patterns and Concentrations:\n",
    "\n",
    "Observations on the year, day, and hour variables indicate temporal patterns, with a concentration in 2011 and 2012, a mean day value around 10, and an hourly distribution ranging from 0 to 23."
   ]
  },
  {
   "cell_type": "markdown",
   "id": "8934473a-9c58-46e7-9f4d-47a4b00fa31e",
   "metadata": {},
   "source": [
    "# Outlier Detection"
   ]
  },
  {
   "cell_type": "code",
   "execution_count": 30,
   "id": "73c78eb9-7e06-4f49-96ab-83c7f4c749db",
   "metadata": {},
   "outputs": [
    {
     "data": {
      "text/plain": [
       "['season', 'holiday', 'workingday', 'weather']"
      ]
     },
     "execution_count": 30,
     "metadata": {},
     "output_type": "execute_result"
    }
   ],
   "source": [
    "cat_col"
   ]
  },
  {
   "cell_type": "code",
   "execution_count": 32,
   "id": "1d84cd16-0fda-45f1-ad08-4a16f7d8ba1e",
   "metadata": {},
   "outputs": [
    {
     "data": {
      "image/png": "[encoded data removed]",
      "text/plain": [
       "<Figure size 1500x1000 with 4 Axes>"
      ]
     },
     "metadata": {},
     "output_type": "display_data"
    }
   ],
   "source": [
    "plt.figure(figsize=(15,10))\n",
    "for i in enumerate(cat_col):\n",
    "    plt.subplot(2,2,i[0]+1)\n",
    "    sns.boxplot(data=df,x=i[1], y= 'count', color= \"#29B6F6\")\n",
    "    plt.title(f\"Box plot for {i[1]}\")\n",
    "plt.subplots_adjust(hspace=0.4,wspace=0.4)\n",
    "plt.show()"
   ]
  },
  {
   "cell_type": "markdown",
   "id": "098428db-9e30-473e-8804-1d212da898c5",
   "metadata": {},
   "source": [
    "Outlier Analysis\n",
    "\n",
    "Outliers in Different Seasons:\n",
    "\n",
    "In spring and winter, there are more unusual values in the data compared to other seasons.\n",
    "Weather Outliers:\n",
    "\n",
    "Category 3 weather has a lot of unusual values, while category 4 weather doesn't have any.\n",
    "Working Days vs. Holidays:\n",
    "\n",
    "On regular working days, there are more unusual values in the data than on holidays. This suggests some unexpected patterns during typical workdays that might need a closer look."
   ]
  },
  {
   "cell_type": "markdown",
   "id": "a1672c5c-f125-4a02-ac52-2dd66762fe98",
   "metadata": {},
   "source": [
    "# Univariate Analysis"
   ]
  },
  {
   "cell_type": "code",
   "execution_count": 33,
   "id": "678269fa-6e12-474a-a3eb-3c6a3058751c",
   "metadata": {},
   "outputs": [
    {
     "data": {
      "text/plain": [
       "Timedelta('718 days 23:00:00')"
      ]
     },
     "execution_count": 33,
     "metadata": {},
     "output_type": "execute_result"
    }
   ],
   "source": [
    "# Time span of data\n",
    "time_span = df['datetime'].max() - df['datetime'].min()\n",
    "time_span"
   ]
  },
  {
   "cell_type": "code",
   "execution_count": 37,
   "id": "a2c0c051-69a5-423f-943a-5d7bbb7a3e04",
   "metadata": {},
   "outputs": [
    {
     "data": {
      "text/plain": [
       "Index(['datetime', 'season', 'holiday', 'workingday', 'weather', 'temp',\n",
       "       'atemp', 'humidity', 'windspeed', 'casual', 'registered', 'count',\n",
       "       'year', 'month', 'day', 'hour'],\n",
       "      dtype='object')"
      ]
     },
     "execution_count": 37,
     "metadata": {},
     "output_type": "execute_result"
    }
   ],
   "source": [
    "df.columns"
   ]
  },
  {
   "cell_type": "code",
   "execution_count": 35,
   "id": "a054e5f7-0e4e-4f73-8069-d50ae42e6f5d",
   "metadata": {},
   "outputs": [
    {
     "data": {
      "text/html": [
       "<div>\n",
       "<style scoped>\n",
       "    .dataframe tbody tr th:only-of-type {\n",
       "        vertical-align: middle;\n",
       "    }\n",
       "\n",
       "    .dataframe tbody tr th {\n",
       "        vertical-align: top;\n",
       "    }\n",
       "\n",
       "    .dataframe thead th {\n",
       "        text-align: right;\n",
       "    }\n",
       "</style>\n",
       "<table border=\"1\" class=\"dataframe\">\n",
       "  <thead>\n",
       "    <tr style=\"text-align: right;\">\n",
       "      <th></th>\n",
       "      <th>datetime</th>\n",
       "      <th>season</th>\n",
       "      <th>holiday</th>\n",
       "      <th>workingday</th>\n",
       "      <th>weather</th>\n",
       "      <th>temp</th>\n",
       "      <th>atemp</th>\n",
       "      <th>humidity</th>\n",
       "      <th>windspeed</th>\n",
       "      <th>casual</th>\n",
       "      <th>registered</th>\n",
       "      <th>count</th>\n",
       "      <th>year</th>\n",
       "      <th>month</th>\n",
       "      <th>day</th>\n",
       "      <th>hour</th>\n",
       "    </tr>\n",
       "  </thead>\n",
       "  <tbody>\n",
       "    <tr>\n",
       "      <th>0</th>\n",
       "      <td>2011-01-01 00:00:00</td>\n",
       "      <td>spring</td>\n",
       "      <td>No</td>\n",
       "      <td>No</td>\n",
       "      <td>1</td>\n",
       "      <td>9.84</td>\n",
       "      <td>14.395</td>\n",
       "      <td>81</td>\n",
       "      <td>0.0</td>\n",
       "      <td>3</td>\n",
       "      <td>13</td>\n",
       "      <td>16</td>\n",
       "      <td>2011</td>\n",
       "      <td>January</td>\n",
       "      <td>1</td>\n",
       "      <td>0</td>\n",
       "    </tr>\n",
       "    <tr>\n",
       "      <th>1</th>\n",
       "      <td>2011-01-01 01:00:00</td>\n",
       "      <td>spring</td>\n",
       "      <td>No</td>\n",
       "      <td>No</td>\n",
       "      <td>1</td>\n",
       "      <td>9.02</td>\n",
       "      <td>13.635</td>\n",
       "      <td>80</td>\n",
       "      <td>0.0</td>\n",
       "      <td>8</td>\n",
       "      <td>32</td>\n",
       "      <td>40</td>\n",
       "      <td>2011</td>\n",
       "      <td>January</td>\n",
       "      <td>1</td>\n",
       "      <td>1</td>\n",
       "    </tr>\n",
       "    <tr>\n",
       "      <th>2</th>\n",
       "      <td>2011-01-01 02:00:00</td>\n",
       "      <td>spring</td>\n",
       "      <td>No</td>\n",
       "      <td>No</td>\n",
       "      <td>1</td>\n",
       "      <td>9.02</td>\n",
       "      <td>13.635</td>\n",
       "      <td>80</td>\n",
       "      <td>0.0</td>\n",
       "      <td>5</td>\n",
       "      <td>27</td>\n",
       "      <td>32</td>\n",
       "      <td>2011</td>\n",
       "      <td>January</td>\n",
       "      <td>1</td>\n",
       "      <td>2</td>\n",
       "    </tr>\n",
       "    <tr>\n",
       "      <th>3</th>\n",
       "      <td>2011-01-01 03:00:00</td>\n",
       "      <td>spring</td>\n",
       "      <td>No</td>\n",
       "      <td>No</td>\n",
       "      <td>1</td>\n",
       "      <td>9.84</td>\n",
       "      <td>14.395</td>\n",
       "      <td>75</td>\n",
       "      <td>0.0</td>\n",
       "      <td>3</td>\n",
       "      <td>10</td>\n",
       "      <td>13</td>\n",
       "      <td>2011</td>\n",
       "      <td>January</td>\n",
       "      <td>1</td>\n",
       "      <td>3</td>\n",
       "    </tr>\n",
       "    <tr>\n",
       "      <th>4</th>\n",
       "      <td>2011-01-01 04:00:00</td>\n",
       "      <td>spring</td>\n",
       "      <td>No</td>\n",
       "      <td>No</td>\n",
       "      <td>1</td>\n",
       "      <td>9.84</td>\n",
       "      <td>14.395</td>\n",
       "      <td>75</td>\n",
       "      <td>0.0</td>\n",
       "      <td>0</td>\n",
       "      <td>1</td>\n",
       "      <td>1</td>\n",
       "      <td>2011</td>\n",
       "      <td>January</td>\n",
       "      <td>1</td>\n",
       "      <td>4</td>\n",
       "    </tr>\n",
       "  </tbody>\n",
       "</table>\n",
       "</div>"
      ],
      "text/plain": [
       "             datetime  season holiday workingday weather  temp   atemp  \\\n",
       "0 2011-01-01 00:00:00  spring      No         No       1  9.84  14.395   \n",
       "1 2011-01-01 01:00:00  spring      No         No       1  9.02  13.635   \n",
       "2 2011-01-01 02:00:00  spring      No         No       1  9.02  13.635   \n",
       "3 2011-01-01 03:00:00  spring      No         No       1  9.84  14.395   \n",
       "4 2011-01-01 04:00:00  spring      No         No       1  9.84  14.395   \n",
       "\n",
       "   humidity  windspeed  casual  registered  count  year    month  day  hour  \n",
       "0        81        0.0       3          13     16  2011  January    1     0  \n",
       "1        80        0.0       8          32     40  2011  January    1     1  \n",
       "2        80        0.0       5          27     32  2011  January    1     2  \n",
       "3        75        0.0       3          10     13  2011  January    1     3  \n",
       "4        75        0.0       0           1      1  2011  January    1     4  "
      ]
     },
     "execution_count": 35,
     "metadata": {},
     "output_type": "execute_result"
    }
   ],
   "source": [
    "df.head(5)"
   ]
  },
  {
   "cell_type": "code",
   "execution_count": null,
   "id": "75284456-dff1-47cd-8926-abd5a19ac34b",
   "metadata": {},
   "outputs": [],
   "source": []
  }
 ],
 "metadata": {
  "kernelspec": {
   "display_name": "Python 3 (ipykernel)",
   "language": "python",
   "name": "python3"
  },
  "language_info": {
   "codemirror_mode": {
    "name": "ipython",
    "version": 3
   },
   "file_extension": ".py",
   "mimetype": "text/x-python",
   "name": "python",
   "nbconvert_exporter": "python",
   "pygments_lexer": "ipython3",
   "version": "3.13.5"
  }
 },
 "nbformat": 4,
 "nbformat_minor": 5
}
